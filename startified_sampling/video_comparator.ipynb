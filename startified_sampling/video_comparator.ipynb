{
 "cells": [
  {
   "cell_type": "code",
   "execution_count": 5,
   "metadata": {},
   "outputs": [
    {
     "name": "stdout",
     "output_type": "stream",
     "text": [
      "Moviepy - Building video output_video.mp4.\n",
      "Moviepy - Writing video output_video.mp4\n",
      "\n"
     ]
    },
    {
     "name": "stderr",
     "output_type": "stream",
     "text": [
      "                                                             \r"
     ]
    },
    {
     "name": "stdout",
     "output_type": "stream",
     "text": [
      "Moviepy - Done !\n",
      "Moviepy - video ready output_video.mp4\n"
     ]
    }
   ],
   "source": [
    "from moviepy.editor import VideoFileClip, TextClip, CompositeVideoClip, clips_array\n",
    "\n",
    "# compare the three videos side by side with captions\n",
    "\n",
    "\n",
    "video_paths = ['mlp_base.mp4', 'cnn_base.mp4', 'transformer_base.mp4']\n",
    "captions = ['MLP-NeRF', 'CNN-NeRF', 'Attention-NeRF']\n",
    "\n",
    "# Load videos and create caption clips\n",
    "clips_with_captions = []\n",
    "for i, path in enumerate(video_paths):\n",
    "    # Load the video\n",
    "    video_clip = VideoFileClip(path)\n",
    "\n",
    "    # Create a text clip for the caption with a smaller font size\n",
    "    txt_clip = TextClip(captions[i], fontsize=10, color='white', bg_color='black').set_duration(video_clip.duration)\n",
    "\n",
    "    # Position the text clip below the video clip\n",
    "    txt_clip = txt_clip.set_position((\"center\", video_clip.size[1]))\n",
    "\n",
    "    # Combine video and text clip\n",
    "    combined_clip = CompositeVideoClip([video_clip.set_position(\"center\"), txt_clip], size=(video_clip.size[0], video_clip.size[1] + txt_clip.size[1]))\n",
    "\n",
    "    # Append to the list\n",
    "    clips_with_captions.append(combined_clip)\n",
    "\n",
    "# Arrange clips side by side horizontally\n",
    "final_clip = clips_array([clips_with_captions])  # Notice the change here\n",
    "\n",
    "# Write the result to a file\n",
    "final_clip.write_videofile(\"output_video.mp4\", codec=\"libx264\", fps=24)\n"
   ]
  }
 ],
 "metadata": {
  "kernelspec": {
   "display_name": "tensorfloid",
   "language": "python",
   "name": "python3"
  },
  "language_info": {
   "codemirror_mode": {
    "name": "ipython",
    "version": 3
   },
   "file_extension": ".py",
   "mimetype": "text/x-python",
   "name": "python",
   "nbconvert_exporter": "python",
   "pygments_lexer": "ipython3",
   "version": "3.10.12"
  }
 },
 "nbformat": 4,
 "nbformat_minor": 2
}
